{
 "cells": [
  {
   "cell_type": "code",
   "execution_count": 1,
   "id": "c3331cab",
   "metadata": {},
   "outputs": [],
   "source": [
    "import numpy as np\n",
    "import pandas as pd\n",
    "import cv2\n",
    "from tensorflow.keras.models import load_model\n",
    "import os\n",
    "os.environ['TF_FORCE_GPU_ALLOW_GROWTH'] = 'true'"
   ]
  },
  {
   "cell_type": "code",
   "execution_count": 2,
   "id": "c4f2968e",
   "metadata": {},
   "outputs": [],
   "source": [
    "self_model=load_model('model.h5')"
   ]
  },
  {
   "cell_type": "code",
   "execution_count": 9,
   "id": "8fecdc88",
   "metadata": {},
   "outputs": [],
   "source": [
    "img_size=64\n",
    "sequence=20\n",
    "label={0:'Non_Violence',1:'Violence'}\n",
    "font = cv2.FONT_HERSHEY_SIMPLEX\n",
    "org = (10, 30)\n",
    "fontScale = 1\n",
    "color = (255, 0, 0)\n",
    "thickness = 1\n",
    "\n",
    "\n",
    "\n",
    "def predict(path):\n",
    "    vcap=cv2.VideoCapture(path)\n",
    "   # frame_count=vcap.get(cv2.CAP_PROP_FRAME_COUNT)\n",
    "    l='Non_violence'\n",
    "    #after much frames we will collect next frame\n",
    "   # frame_gap=max(int(frame_count/sequence),1)\n",
    "    \n",
    "    frame_list=[]\n",
    "    f_no=0\n",
    "    #for frame_counter in range(sequence):\n",
    "    while True:\n",
    "        #vcap.set(cv2.CAP_PROP_POS_FRAMES,frame_counter*frame_gap)\n",
    "        res,frame=vcap.read()\n",
    "        \n",
    "        if not res:\n",
    "            break;\n",
    "        \n",
    "        f=frame\n",
    "        \n",
    "\n",
    "        img=cv2.resize(frame,(img_size,img_size))\n",
    "        if f_no%5==0:\n",
    "            frame_list.append(img/255.0)\n",
    "        if len(frame_list)>20:\n",
    "            frame_list.pop(0)\n",
    "        if len(frame_list)==20:\n",
    "            list=np.array([frame_list])\n",
    "            l=label[(self_model.predict(list)[0]>0.5)[0]]\n",
    "            frame_list.pop(0)\n",
    "        \n",
    "        f = cv2.putText(f, l, org, font, fontScale, color, thickness)\n",
    "        cv2.imshow('predict',f)\n",
    "        if cv2.waitKey(5) & 0xFF == ord('q'):\n",
    "            break\n",
    "        f_no+=1\n",
    "          \n",
    "    \n",
    "    vcap.release()\n",
    "    "
   ]
  },
  {
   "cell_type": "code",
   "execution_count": 10,
   "id": "049088f9",
   "metadata": {},
   "outputs": [],
   "source": [
    "path=r\"C:\\Users\\MUNDI\\ML\\violence video detection\\V_27.mp4\""
   ]
  },
  {
   "cell_type": "code",
   "execution_count": 11,
   "id": "357bd96a",
   "metadata": {},
   "outputs": [],
   "source": [
    "predict(path)\n",
    "cv2.destroyAllWindows()"
   ]
  }
 ],
 "metadata": {
  "kernelspec": {
   "display_name": "Python 3 (ipykernel)",
   "language": "python",
   "name": "python3"
  },
  "language_info": {
   "codemirror_mode": {
    "name": "ipython",
    "version": 3
   },
   "file_extension": ".py",
   "mimetype": "text/x-python",
   "name": "python",
   "nbconvert_exporter": "python",
   "pygments_lexer": "ipython3",
   "version": "3.8.0"
  }
 },
 "nbformat": 4,
 "nbformat_minor": 5
}
